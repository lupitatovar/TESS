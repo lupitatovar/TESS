{
 "cells": [
  {
   "cell_type": "code",
   "execution_count": 7,
   "metadata": {},
   "outputs": [],
   "source": [
    "%matplotlib inline\n",
    "import numpy as np\n",
    "import matplotlib.pyplot as plt\n",
    "import pandas as pd\n",
    "from scipy import *\n",
    "import astropy\n",
    "from astropy import constants as ac\n",
    "from astroquery.mast import Observations\n",
    "import lightkurve\n",
    "import celerite\n",
    "from celerite import terms\n",
    "from scipy.optimize import minimize\n",
    "from astropy.io import fits\n",
    "from astropy.table import Table\n",
    "from astropy.wcs import WCS\n",
    "from lightkurve import search_lightcurvefile\n",
    "from lightkurve import search_targetpixelfile\n",
    "from lightkurve import TessTargetPixelFile"
   ]
  },
  {
   "cell_type": "markdown",
   "metadata": {},
   "source": [
    "#### Some examples of working with TESS data can be found below\n",
    "Downloading the data: https://outerspace.stsci.edu/display/TESS/6.1.2+-+Download+All+Full+Frame+Images+By+Sector\n",
    "\n",
    "Lightkurve: http://docs.lightkurve.org/tutorials/02-how-to-recover-the-first-tess-candidate.html\n",
    "\n",
    "STScI notebooks: https://github.com/spacetelescope/notebooks\n"
   ]
  },
  {
   "cell_type": "code",
   "execution_count": null,
   "metadata": {},
   "outputs": [],
   "source": []
  }
 ],
 "metadata": {
  "kernelspec": {
   "display_name": "Python3",
   "language": "python",
   "name": "python3"
  },
  "language_info": {
   "codemirror_mode": {
    "name": "ipython",
    "version": 3
   },
   "file_extension": ".py",
   "mimetype": "text/x-python",
   "name": "python",
   "nbconvert_exporter": "python",
   "pygments_lexer": "ipython3",
   "version": "3.7.3"
  }
 },
 "nbformat": 4,
 "nbformat_minor": 2
}
